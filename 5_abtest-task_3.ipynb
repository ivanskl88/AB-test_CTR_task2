{
 "cells": [
  {
   "cell_type": "markdown",
   "id": "222c177d-a1c0-428b-84ad-476b32a652c1",
   "metadata": {},
   "source": [
    "# 5 Урок: A/В-тесты\n",
    "\n",
    "---"
   ]
  },
  {
   "cell_type": "markdown",
   "id": "acb40712-dff7-4912-a559-bdfc9631c1af",
   "metadata": {
    "tags": []
   },
   "source": [
    "## Задание №3: Проведение A/B-теста\n",
    "\n",
    ">**Задача:**\n",
    ">\n",
    "> 1) Проанализируйте тест между группами 0 и 3 по метрике линеаризованных лайков. Видно ли отличие? Стало ли 𝑝−𝑣𝑎𝑙𝑢𝑒 меньше?\n",
    ">\n",
    "> 2) Проанализируйте тест между группами 1 и 2 по метрике линеаризованных лайков. Видно ли отличие? Стало ли 𝑝−𝑣𝑎𝑙𝑢𝑒 меньше?"
   ]
  },
  {
   "cell_type": "markdown",
   "id": "b78f9bd5-ee3c-41b4-a853-b6b03a97977e",
   "metadata": {
    "tags": []
   },
   "source": [
    "---\n",
    "## Установим необходимые библиотеки и подключение к БД"
   ]
  },
  {
   "cell_type": "code",
   "execution_count": 1,
   "id": "6fb1cdcf-cc63-41e2-bfc9-6d6d01979536",
   "metadata": {},
   "outputs": [],
   "source": [
    "# установим необходимые библиотеки\n",
    "\n",
    "import pandas as pd\n",
    "import numpy as np\n",
    "import pandahouse as ph\n",
    "from scipy import stats as st\n",
    "import matplotlib.pyplot as plt\n",
    "import seaborn as sns"
   ]
  },
  {
   "cell_type": "code",
   "execution_count": 45,
   "id": "41fba6f6-6579-46eb-ac8f-05fe8d166947",
   "metadata": {},
   "outputs": [],
   "source": [
    "import warnings\n",
    "warnings.simplefilter(action='ignore')"
   ]
  },
  {
   "cell_type": "code",
   "execution_count": 2,
   "id": "87afd4b7-3a07-42d6-95b4-a2d8f3aa21bd",
   "metadata": {},
   "outputs": [],
   "source": [
    "# установим фиксированные размер для будущих графиков\n",
    "\n",
    "sns.set(rc={'figure.figsize':(12,9)})"
   ]
  },
  {
   "cell_type": "code",
   "execution_count": 3,
   "id": "dd8338b6-d230-477e-8ce5-aae0f22fead8",
   "metadata": {},
   "outputs": [],
   "source": [
    "# установим соединение с БД\n",
    "\n",
    "con = {\n",
    "    'host': '*****',\n",
    "    'password': '*****',\n",
    "    'user': '*****',\n",
    "    'database': '*****'\n",
    "}"
   ]
  },
  {
   "cell_type": "markdown",
   "id": "c879f9b3-6a56-4674-ac29-012be7dbdac8",
   "metadata": {
    "tags": []
   },
   "source": [
    "## Напишем запрос и вытащим наши данные"
   ]
  },
  {
   "cell_type": "code",
   "execution_count": 13,
   "id": "e6a6659a-4aeb-4676-99b8-f050fe7031ef",
   "metadata": {},
   "outputs": [],
   "source": [
    "## напишем запрос\n",
    "\n",
    "query = '''\n",
    "\n",
    "SELECT exp_group,\n",
    "       user_id,\n",
    "       sum(action = 'view') AS view,\n",
    "       sum(action = 'like') AS like,\n",
    "       like / view AS ctr\n",
    "FROM simulator_20230220.feed_actions       \n",
    "WHERE (toDate(time) >= '2022-01-31' AND toDate(time) <='2023-02-06')\n",
    "      AND exp_group IN (0, 1, 2, 3)\n",
    "GROUP BY exp_group, user_id\n",
    "ORDER BY exp_group, user_id, view, like, ctr\n",
    "\n",
    "\n",
    "'''"
   ]
  },
  {
   "cell_type": "code",
   "execution_count": 14,
   "id": "f34dd2e1-d2d5-4f4f-84b5-a3a277dcf044",
   "metadata": {},
   "outputs": [],
   "source": [
    "# поместим данные в переменную df\n",
    "\n",
    "df = ph.read_clickhouse(query, connection=con)"
   ]
  },
  {
   "cell_type": "code",
   "execution_count": 15,
   "id": "762c3442-0264-4389-a138-3d42163a27d2",
   "metadata": {},
   "outputs": [
    {
     "data": {
      "text/html": [
       "<div>\n",
       "<style scoped>\n",
       "    .dataframe tbody tr th:only-of-type {\n",
       "        vertical-align: middle;\n",
       "    }\n",
       "\n",
       "    .dataframe tbody tr th {\n",
       "        vertical-align: top;\n",
       "    }\n",
       "\n",
       "    .dataframe thead th {\n",
       "        text-align: right;\n",
       "    }\n",
       "</style>\n",
       "<table border=\"1\" class=\"dataframe\">\n",
       "  <thead>\n",
       "    <tr style=\"text-align: right;\">\n",
       "      <th></th>\n",
       "      <th>exp_group</th>\n",
       "      <th>user_id</th>\n",
       "      <th>view</th>\n",
       "      <th>like</th>\n",
       "      <th>ctr</th>\n",
       "    </tr>\n",
       "  </thead>\n",
       "  <tbody>\n",
       "    <tr>\n",
       "      <th>0</th>\n",
       "      <td>0</td>\n",
       "      <td>201</td>\n",
       "      <td>208</td>\n",
       "      <td>59</td>\n",
       "      <td>0.283654</td>\n",
       "    </tr>\n",
       "    <tr>\n",
       "      <th>1</th>\n",
       "      <td>0</td>\n",
       "      <td>211</td>\n",
       "      <td>151</td>\n",
       "      <td>26</td>\n",
       "      <td>0.172185</td>\n",
       "    </tr>\n",
       "    <tr>\n",
       "      <th>2</th>\n",
       "      <td>0</td>\n",
       "      <td>212</td>\n",
       "      <td>348</td>\n",
       "      <td>94</td>\n",
       "      <td>0.270115</td>\n",
       "    </tr>\n",
       "    <tr>\n",
       "      <th>3</th>\n",
       "      <td>0</td>\n",
       "      <td>222</td>\n",
       "      <td>156</td>\n",
       "      <td>28</td>\n",
       "      <td>0.179487</td>\n",
       "    </tr>\n",
       "    <tr>\n",
       "      <th>4</th>\n",
       "      <td>0</td>\n",
       "      <td>225</td>\n",
       "      <td>41</td>\n",
       "      <td>8</td>\n",
       "      <td>0.195122</td>\n",
       "    </tr>\n",
       "  </tbody>\n",
       "</table>\n",
       "</div>"
      ],
      "text/plain": [
       "   exp_group  user_id  view  like       ctr\n",
       "0          0      201   208    59  0.283654\n",
       "1          0      211   151    26  0.172185\n",
       "2          0      212   348    94  0.270115\n",
       "3          0      222   156    28  0.179487\n",
       "4          0      225    41     8  0.195122"
      ]
     },
     "execution_count": 15,
     "metadata": {},
     "output_type": "execute_result"
    }
   ],
   "source": [
    "# выведем на экран\n",
    "\n",
    "df.head()"
   ]
  },
  {
   "cell_type": "code",
   "execution_count": 16,
   "id": "b35a2f4c-e52e-4a10-b7b6-74de67ccddea",
   "metadata": {},
   "outputs": [
    {
     "data": {
      "text/html": [
       "<div>\n",
       "<style scoped>\n",
       "    .dataframe tbody tr th:only-of-type {\n",
       "        vertical-align: middle;\n",
       "    }\n",
       "\n",
       "    .dataframe tbody tr th {\n",
       "        vertical-align: top;\n",
       "    }\n",
       "\n",
       "    .dataframe thead th {\n",
       "        text-align: right;\n",
       "    }\n",
       "</style>\n",
       "<table border=\"1\" class=\"dataframe\">\n",
       "  <thead>\n",
       "    <tr style=\"text-align: right;\">\n",
       "      <th></th>\n",
       "      <th>user_id</th>\n",
       "      <th>view</th>\n",
       "      <th>like</th>\n",
       "      <th>ctr</th>\n",
       "    </tr>\n",
       "    <tr>\n",
       "      <th>exp_group</th>\n",
       "      <th></th>\n",
       "      <th></th>\n",
       "      <th></th>\n",
       "      <th></th>\n",
       "    </tr>\n",
       "  </thead>\n",
       "  <tbody>\n",
       "    <tr>\n",
       "      <th>0</th>\n",
       "      <td>13019</td>\n",
       "      <td>13019</td>\n",
       "      <td>13019</td>\n",
       "      <td>13019</td>\n",
       "    </tr>\n",
       "    <tr>\n",
       "      <th>1</th>\n",
       "      <td>13123</td>\n",
       "      <td>13123</td>\n",
       "      <td>13123</td>\n",
       "      <td>13123</td>\n",
       "    </tr>\n",
       "    <tr>\n",
       "      <th>2</th>\n",
       "      <td>12987</td>\n",
       "      <td>12987</td>\n",
       "      <td>12987</td>\n",
       "      <td>12987</td>\n",
       "    </tr>\n",
       "    <tr>\n",
       "      <th>3</th>\n",
       "      <td>13214</td>\n",
       "      <td>13214</td>\n",
       "      <td>13214</td>\n",
       "      <td>13214</td>\n",
       "    </tr>\n",
       "  </tbody>\n",
       "</table>\n",
       "</div>"
      ],
      "text/plain": [
       "           user_id   view   like    ctr\n",
       "exp_group                              \n",
       "0            13019  13019  13019  13019\n",
       "1            13123  13123  13123  13123\n",
       "2            12987  12987  12987  12987\n",
       "3            13214  13214  13214  13214"
      ]
     },
     "execution_count": 16,
     "metadata": {},
     "output_type": "execute_result"
    }
   ],
   "source": [
    "# сравник количество участников\n",
    "\n",
    "df.groupby('exp_group').count()"
   ]
  },
  {
   "cell_type": "markdown",
   "id": "9ed3b932-fb5f-462d-9171-b48a5a05a7f2",
   "metadata": {},
   "source": [
    "Группы примерно равны"
   ]
  },
  {
   "cell_type": "markdown",
   "id": "936b7d1d-cb4d-45f7-b620-566caf840354",
   "metadata": {},
   "source": [
    "## Напишем функцию\n",
    "\n",
    "Которая рассчитает общегрупповой CTR и выведет новую метрику **𝑙𝑖𝑛𝑒𝑎𝑟𝑖𝑧𝑒𝑑_𝑙𝑖𝑘𝑒𝑠**, а также при желании проведет сразу 2 Т-теста по CTR и по новой метрики.\n",
    "\n"
   ]
  },
  {
   "cell_type": "code",
   "execution_count": 99,
   "id": "d22e2b41-fc0e-4fb6-a0d4-b044cca8eea1",
   "metadata": {},
   "outputs": [],
   "source": [
    "# напишем функцию для расчета поюзерной метрики linearized_likes\n",
    "\n",
    "def ctr_control(data, control_group, target_group, ttest=True):\n",
    "    \n",
    "    # сделаем срез по группам\n",
    "    ctr_control = data[(data['exp_group'] == control_group) | (data['exp_group'] == target_group)]\n",
    "    \n",
    "    # расчитаем общий CTR в контрольной группе\n",
    "    ctr_control['ctr_control'] = (\n",
    "        ctr_control[ctr_control['exp_group'] == control_group]['like'].sum() \n",
    "           / ctr_control[ctr_control['exp_group'] == control_group]['view'].sum()\n",
    "    )\n",
    "    \n",
    "    # Посчитаем в обеих группах поюзерную метрику  linearized_likes = like - CTRcontrol * view\n",
    "    ctr_control['linearized_likes'] = ctr_control['like'] - (ctr_control['ctr_control'] * ctr_control['view'])\n",
    "    \n",
    "    \n",
    "    \n",
    "    # проведем Т-тест\n",
    "    if ttest == True:\n",
    "        print(f'Проведем t-тест для CTR в группах: Контрольная - {control_group} и Целевая - {target_group}\\n\\n')\n",
    "        result = (\n",
    "            st.ttest_ind(ctr_control[ctr_control.exp_group == control_group].ctr, \n",
    "                        ctr_control[ctr_control.exp_group == target_group].ctr,\n",
    "                         equal_var = True # специально выделил, что будем считать дисперсии равными                        \n",
    "                        )\n",
    "        )\n",
    "            # статистическую значимость возьмем в 5%\n",
    "        alpha = .05 \n",
    "        if result.pvalue < alpha:\n",
    "            print('Отвергаем нулевую гипотезу. Между данными есть статистически значимая разница')\n",
    "        else:\n",
    "            print('Не получилость отвергнуть нулевую гипотезу. Между данными не удалось найти статистически значимую разницу')\n",
    "        print(result)    \n",
    "        \n",
    "        print(f'\\n\\nПроведем t-тест для поюзерной метрики linearized_likes в группах: Контрольная - {control_group} и Целевая - {target_group}\\n\\n')\n",
    "        result_2 = (\n",
    "            st.ttest_ind(ctr_control[ctr_control.exp_group == control_group].linearized_likes, \n",
    "                        ctr_control[ctr_control.exp_group == target_group].linearized_likes,\n",
    "                         equal_var = True # специально выделил, что будем считать дисперсии равными                        \n",
    "                        )\n",
    "        )\n",
    "            # статистическую значимость возьмем в 5%\n",
    "        alpha = .05 \n",
    "        if result_2.pvalue < alpha:\n",
    "            print('Отвергаем нулевую гипотезу. Между данными есть статистически значимая разница')\n",
    "        else:\n",
    "            print('Не получилость отвергнуть нулевую гипотезу. Между данными не удалось найти статистически значимую разницу')\n",
    "        print(result_2)    \n",
    "        \n",
    "        # на всякий случай пусть наша функцию выведет таблицу с нашей новой метрикой, вдруг вдальнейшем понадобится\n",
    "        return ctr_control\n",
    "            \n",
    "            "
   ]
  },
  {
   "cell_type": "markdown",
   "id": "ba702b26-f9a4-454f-9ab3-84cff869ceb0",
   "metadata": {},
   "source": [
    "## Проведем t-тест для групп 0 и 3"
   ]
  },
  {
   "cell_type": "code",
   "execution_count": 100,
   "id": "7193c3c4-6160-40e8-a088-ae22fcb8c939",
   "metadata": {},
   "outputs": [
    {
     "name": "stdout",
     "output_type": "stream",
     "text": [
      "Проведем t-тест для CTR в группах: Контрольная - 0 и Целевая - 3\n",
      "\n",
      "\n",
      "Отвергаем нулевую гипотезу. Между данными есть статистически значимая разница\n",
      "Ttest_indResult(statistic=-8.05088595006658, pvalue=8.56540958071733e-16)\n",
      "\n",
      "\n",
      "Проведем t-тест для поюзерной метрики linearized_likes в группах: Контрольная - 0 и Целевая - 3\n",
      "\n",
      "\n",
      "Отвергаем нулевую гипотезу. Между данными есть статистически значимая разница\n",
      "Ttest_indResult(statistic=-6.585317270787503, pvalue=4.624933110497003e-11)\n"
     ]
    }
   ],
   "source": [
    "# применим нашу функцию и сразу проведет т-тест\n",
    "\n",
    "group_03 = ctr_control(df, control_group=0, target_group=3, ttest=True)"
   ]
  },
  {
   "cell_type": "markdown",
   "id": "61597bee-fb40-4d06-b6be-6d068512ec24",
   "metadata": {},
   "source": [
    "**Итог теста:**\n",
    "- в обоих случаях мы **отвергли нулевую гипотезу** и обнаружили между данными статистически значимую разницу;\n",
    "- стоит отметить, что при проведении т-тест с учетом нашей новой метрики linearized_likes значение p-value уменьшилось."
   ]
  },
  {
   "cell_type": "markdown",
   "id": "ec027331-a5d8-4892-827c-52ce38f37005",
   "metadata": {},
   "source": [
    "## Проведем t-тест для групп 1 и 2"
   ]
  },
  {
   "cell_type": "code",
   "execution_count": 101,
   "id": "80bceefe-b417-4fb9-b6ef-9ce1c4f0b4e9",
   "metadata": {},
   "outputs": [
    {
     "name": "stdout",
     "output_type": "stream",
     "text": [
      "Проведем t-тест для CTR в группах: Контрольная - 1 и Целевая - 2\n",
      "\n",
      "\n",
      "Не получилость отвергнуть нулевую гипотезу. Между данными не удалось найти статистически значимую разницу\n",
      "Ttest_indResult(statistic=1.5009629042115853, pvalue=0.13337724953264857)\n",
      "\n",
      "\n",
      "Проведем t-тест для поюзерной метрики linearized_likes в группах: Контрольная - 1 и Целевая - 2\n",
      "\n",
      "\n",
      "Отвергаем нулевую гипотезу. Между данными есть статистически значимая разница\n",
      "Ttest_indResult(statistic=2.066277941426868, pvalue=0.038812082333477466)\n"
     ]
    }
   ],
   "source": [
    "# применим нашу функцию и сразу проведет т-тест\n",
    "\n",
    "group_03 = ctr_control(df, control_group=1, target_group=2, ttest=True)"
   ]
  },
  {
   "cell_type": "markdown",
   "id": "c4c62171-9744-46ca-ac78-ccd81bf9bd66",
   "metadata": {},
   "source": [
    "**Итог теста:**\n",
    "- при проведении теста в первом случай (при сравнении CTR) у нас не получилось отвергнуть нулевую гипотезу и уровень p-value около 13%, а вот при расчете нашей новой метрики linearized_likes уровень p-value упал до примерно 3% и мы уже отвергаем нуевую гипотезу."
   ]
  }
 ],
 "metadata": {
  "kernelspec": {
   "display_name": "Python 3 (ipykernel)",
   "language": "python",
   "name": "python3"
  },
  "language_info": {
   "codemirror_mode": {
    "name": "ipython",
    "version": 3
   },
   "file_extension": ".py",
   "mimetype": "text/x-python",
   "name": "python",
   "nbconvert_exporter": "python",
   "pygments_lexer": "ipython3",
   "version": "3.10.9"
  }
 },
 "nbformat": 4,
 "nbformat_minor": 5
}
